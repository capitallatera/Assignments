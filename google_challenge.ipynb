{
  "nbformat": 4,
  "nbformat_minor": 0,
  "metadata": {
    "colab": {
      "name": "google challenge.ipynb",
      "provenance": [],
      "collapsed_sections": [],
      "authorship_tag": "ABX9TyOeVlQzXzJGsLlokcQAw343",
      "include_colab_link": true
    },
    "kernelspec": {
      "name": "python3",
      "display_name": "Python 3"
    },
    "language_info": {
      "name": "python"
    }
  },
  "cells": [
    {
      "cell_type": "markdown",
      "metadata": {
        "id": "view-in-github",
        "colab_type": "text"
      },
      "source": [
        "<a href=\"https://colab.research.google.com/github/capitallatera/Assignments/blob/master/google_challenge.ipynb\" target=\"_parent\"><img src=\"https://colab.research.google.com/assets/colab-badge.svg\" alt=\"Open In Colab\"/></a>"
      ]
    },
    {
      "cell_type": "markdown",
      "metadata": {
        "id": "Gi7Tkg9npaGj"
      },
      "source": [
        "I Love Lance & Janice\n",
        "=====================\n",
        "\n",
        "You've caught two of your fellow minions passing coded notes back and forth -- while they're on duty, no less! Worse, you're pretty sure it's not job-related -- they're both huge fans of the space soap opera \"\"Lance & Janice\"\". You know how much Commander Lambda hates waste, so if you can prove that these minions are wasting time passing non-job-related notes, it'll put you that much closer to a promotion. \n",
        "\n",
        "Fortunately for you, the minions aren't exactly advanced cryptographers. In their code, every lowercase letter [a..z] is replaced with the corresponding one in [z..a], while every other character (including uppercase letters and punctuation) is left untouched.  That is, 'a' becomes 'z', 'b' becomes 'y', 'c' becomes 'x', etc.  For instance, the word \"\"vmxibkgrlm\"\", when decoded, would become \"\"encryption\"\".\n",
        "\n",
        "Write a function called solution(s) which takes in a string and returns the deciphered string so you can show the commander proof that these minions are talking about \"\"Lance & Janice\"\" instead of doing their jobs.\n",
        "\n",
        "Languages\n",
        "=========\n",
        "\n",
        "To provide a Python solution, edit solution.py\n",
        "To provide a Java solution, edit Solution.java\n",
        "\n",
        "Test cases\n",
        "==========\n",
        "Your code should pass the following test cases.\n",
        "Note that it may also be run against hidden test cases not shown here.\n",
        "\n",
        "-- Python cases --\n",
        "Input:\n",
        "solution.solution(\"wrw blf hvv ozhg mrtsg'h vkrhlwv?\")\n",
        "Output:\n",
        "    did you see last night's episode?\n",
        "\n",
        "Input:\n",
        "solution.solution(\"Yvzs! I xzm'g yvorvev Lzmxv olhg srh qly zg gsv xlolmb!!\")\n",
        "Output:\n",
        "    Yeah! I can't believe Lance lost his job at the colony!!\n",
        "\n",
        "-- Java cases --\n",
        "Input:\n",
        "Solution.solution(\"Yvzs! I xzm'g yvorvev Lzmxv olhg srh qly zg gsv xlolmb!!\")\n",
        "Output:\n",
        "    Yeah! I can't believe Lance lost his job at the colony!!\n",
        "\n",
        "Input:\n",
        "Solution.solution(\"wrw blf hvv ozhg mrtsg'h vkrhlwv?\")\n",
        "Output:\n",
        "    did you see last night's episode?\n",
        "\n",
        "Use verify [file] to test your solution and see how it does. When you are finished editing your code, use submit [file] to submit your answer. If your solution passes the test cases, it will be removed from your home folder."
      ]
    },
    {
      "cell_type": "code",
      "metadata": {
        "colab": {
          "base_uri": "https://localhost:8080/",
          "height": 35
        },
        "id": "0_7vAVsPpVjA",
        "outputId": "4e28a619-40c2-40b3-a528-b7e85e527279"
      },
      "source": [
        "def solution(s):\n",
        "  decrypt=[]\n",
        "  for i in s:\n",
        "    if ord(i)>=ord('a') and ord(i)<=ord('z'):\n",
        "      # print(i,ord(i),chr(ord('a')+(ord('z')-ord(i))))\n",
        "      decrypt.append(chr(ord('a')+(ord('z')-ord(i))))\n",
        "    else:\n",
        "      decrypt.append(i)\n",
        "  return \"\".join(decrypt)\n",
        "\n",
        "\n",
        "test0=\"vmxibkgrlm\"\n",
        "test1=\"wrw blf hvv ozhg mrtsg'h vkrhlwv?\"   # did you see last night's episode?\n",
        "test2=\"Yvzs! I xzm'g yvorvev Lzmxv olhg srh qly zg gsv xlolmb!!\"     # Yeah! I can't believe Lance lost his job at the colony!!\n",
        "solution(test2)\n"
      ],
      "execution_count": 33,
      "outputs": [
        {
          "output_type": "execute_result",
          "data": {
            "application/vnd.google.colaboratory.intrinsic+json": {
              "type": "string"
            },
            "text/plain": [
              "\"Yeah! I can't believe Lance lost his job at the colony!!\""
            ]
          },
          "metadata": {
            "tags": []
          },
          "execution_count": 33
        }
      ]
    },
    {
      "cell_type": "markdown",
      "metadata": {
        "id": "XAKVdA83xdCc"
      },
      "source": [
        "Numbers Station Coded Messages\n",
        "==============================\n",
        "\n",
        "When you went undercover in Commander Lambda's organization, you set up a coded messaging system with Bunny Headquarters to allow them to send you important mission updates. Now that you're here and promoted to Henchman, you need to make sure you can receive those messages -- but since you need to sneak them past Commander Lambda's spies, it won't be easy!\n",
        "\n",
        "Bunny HQ has secretly taken control of two of the galaxy's more obscure numbers stations, and will use them to broadcast lists of numbers. They've given you a numerical key, and their messages will be encrypted within the first sequence of numbers that adds up to that key within any given list of numbers. \n",
        "\n",
        "Given a non-empty list of positive integers l and a target positive integer t, write a function solution(l, t) which verifies if there is at least one consecutive sequence of positive integers within the list l (i.e. a contiguous sub-list) that can be summed up to the given target positive integer t (the key) and returns the lexicographically smallest list containing the smallest start and end indexes where this sequence can be found, or returns the array [-1, -1] in the case that there is no such sequence (to throw off Lambda's spies, not all number broadcasts will contain a coded message).\n",
        "\n",
        "For example, given the broadcast list l as [4, 3, 5, 7, 8] and the key t as 12, the function solution(l, t) would return the list [0, 2] because the list l contains the sub-list [4, 3, 5] starting at index 0 and ending at index 2, for which 4 + 3 + 5 = 12, even though there is a shorter sequence that happens later in the list (5 + 7). On the other hand, given the list l as [1, 2, 3, 4] and the key t as 15, the function solution(l, t) would return [-1, -1] because there is no sub-list of list l that can be summed up to the given target value t = 15.\n",
        "\n",
        "To help you identify the coded broadcasts, Bunny HQ has agreed to the following standards: \n",
        "\n",
        "- Each list l will contain at least 1 element but never more than 100.\n",
        "- Each element of l will be between 1 and 100.\n",
        "- t will be a positive integer, not exceeding 250.\n",
        "- The first element of the list l has index 0. \n",
        "- For the list returned by solution(l, t), the start index must be equal or smaller than the end index. \n",
        "\n",
        "Remember, to throw off Lambda's spies, Bunny HQ might include more than one contiguous sublist of a number broadcast that can be summed up to the key. You know that the message will always be hidden in the first sublist that sums up to the key, so solution(l, t) should only return that sublist.\n",
        "\n",
        "Languages\n",
        "=========\n",
        "\n",
        "To provide a Python solution, edit solution.py\n",
        "To provide a Java solution, edit Solution.java\n",
        "\n",
        "Test cases\n",
        "==========\n",
        "Your code should pass the following test cases.\n",
        "Note that it may also be run against hidden test cases not shown here.\n",
        "\n",
        "-- Python cases --\n",
        "Input:\n",
        "solution.solution([1, 2, 3, 4], 15)\n",
        "Output:\n",
        "    -1,-1\n",
        "\n",
        "Input:\n",
        "solution.solution([4, 3, 10, 2, 8], 12)\n",
        "Output:\n",
        "    2,3\n",
        "\n",
        "-- Java cases --\n",
        "Input:\n",
        "Solution.solution({1, 2, 3, 4}, 15)\n",
        "Output:\n",
        "    -1,-1\n",
        "\n",
        "Input:\n",
        "Solution.solution({4, 3, 10, 2, 8}, 12)\n",
        "Output:\n",
        "    2,3\n",
        "\n",
        "Use verify [file] to test your solution and see how it does. When you are finished editing your code, use submit [file] to submit your answer. If your solution passes the test cases, it will be removed from your home folder."
      ]
    },
    {
      "cell_type": "code",
      "metadata": {
        "colab": {
          "base_uri": "https://localhost:8080/"
        },
        "id": "BadWD90rqer3",
        "outputId": "ea39e8b0-c2a6-4836-806f-ce03e9fe935f"
      },
      "source": [
        "def solution(l,t):\n",
        "  upper_index=[]\n",
        "  for i in range(len(l)):\n",
        "    sum=0\n",
        "    inner_index=[]\n",
        "    for j in range(i,len(l)):\n",
        "      sum+=l[j]\n",
        "      inner_index.append(j)\n",
        "      if sum==t:\n",
        "        break\n",
        "    upper_index.append({sum:inner_index})\n",
        "\n",
        "  output=list(filter(lambda x:x.get(t),upper_index))\n",
        "  if len(output)!=0:\n",
        "    output=list(filter(lambda x:x.get(t),upper_index))[0].get(t)\n",
        "    l,m=min(output),max(output)\n",
        "    return l,m\n",
        "  else:\n",
        "    return -1,-1\n",
        "  \n",
        "\n",
        "# solution([1, 2, 3, 4], 15)\n",
        "# solution([4, 3, 10, 2, 8], 12)\n",
        "solution([4, 3, 5, 7, 8],12)"
      ],
      "execution_count": 165,
      "outputs": [
        {
          "output_type": "execute_result",
          "data": {
            "text/plain": [
              "(0, 2)"
            ]
          },
          "metadata": {
            "tags": []
          },
          "execution_count": 165
        }
      ]
    },
    {
      "cell_type": "markdown",
      "metadata": {
        "id": "xG6tnY2OG8bF"
      },
      "source": [
        "Hey, I Already Did That!\n",
        "========================\n",
        "\n",
        "Commander Lambda uses an automated algorithm to assign minions randomly to tasks, in order to keep minions on their toes. But you've noticed a flaw in the algorithm -- it eventually loops back on itself, so that instead of assigning new minions as it iterates, it gets stuck in a cycle of values so that the same minions end up doing the same tasks over and over again. You think proving this to Commander Lambda will help you make a case for your next promotion. \n",
        "\n",
        "You have worked out that the algorithm has the following process: \n",
        "\n",
        "1) Start with a random minion ID n, which is a nonnegative integer of length k in base b\n",
        "2) Define x and y as integers of length k.  x has the digits of n in descending order, and y has the digits of n in ascending order\n",
        "3) Define z = x - y.  Add leading zeros to z to maintain length k if necessary\n",
        "4) Assign n = z to get the next minion ID, and go back to step 2\n",
        "\n",
        "For example, given minion ID n = 1211, k = 4, b = 10, then x = 2111, y = 1112 and z = 2111 - 1112 = 0999. Then the next minion ID will be n = 0999 and the algorithm iterates again: x = 9990, y = 0999 and z = 9990 - 0999 = 8991, and so on.\n",
        "\n",
        "Depending on the values of n, k (derived from n), and b, at some point the algorithm reaches a cycle, such as by reaching a constant value. For example, starting with n = 210022, k = 6, b = 3, the algorithm will reach the cycle of values [210111, 122221, 102212] and it will stay in this cycle no matter how many times it continues iterating. Starting with n = 1211, the routine will reach the integer 6174, and since 7641 - 1467 is 6174, it will stay as that value no matter how many times it iterates.\n",
        "\n",
        "Given a minion ID as a string n representing a nonnegative integer of length k in base b, where 2 <= k <= 9 and 2 <= b <= 10, write a function solution(n, b) which returns the length of the ending cycle of the algorithm above starting with n. For instance, in the example above, solution(210022, 3) would return 3, since iterating on 102212 would return to 210111 when done in base 3. If the algorithm reaches a constant, such as 0, then the length is 1.\n",
        "\n",
        "Languages\n",
        "=========\n",
        "\n",
        "To provide a Java solution, edit Solution.java\n",
        "To provide a Python solution, edit solution.py\n",
        "\n",
        "Test cases\n",
        "==========\n",
        "Your code should pass the following test cases.\n",
        "Note that it may also be run against hidden test cases not shown here.\n",
        "\n",
        "-- Java cases --\n",
        "Input:\n",
        "Solution.solution('210022', 3)\n",
        "Output:\n",
        "    3\n",
        "\n",
        "Input:\n",
        "Solution.solution('1211', 10)\n",
        "Output:\n",
        "    1\n",
        "\n",
        "-- Python cases --\n",
        "Input:\n",
        "solution.solution('1211', 10)\n",
        "Output:\n",
        "    1\n",
        "\n",
        "Input:\n",
        "solution.solution('210022', 3)\n",
        "Output:\n",
        "    3\n",
        "\n",
        "Use verify [file] to test your solution and see how it does. When you are finished editing your code, use submit [file] to submit your answer. If your solution passes the test cases, it will be removed from your home folder.\n"
      ]
    },
    {
      "cell_type": "code",
      "metadata": {
        "id": "QLkVpipKG9rd"
      },
      "source": [
        "# def size(x,n):\n",
        "#   if len(x)<len(n):\n",
        "#     x=\"0\"+x\n",
        "#     if len(x)==len(n):\n",
        "#       return x\n",
        "#     else:\n",
        "#       size(x,n)\n",
        "#   else:\n",
        "#     return x\n",
        "\n",
        "\n",
        "# def solution(n,b):\n",
        "#   k=size(n,n)\n",
        "#   print(\"n is {0} {1}, k is {2} and b is {3} {4}\".format(n,type(n),len(k),b,type(b)))\n",
        "#   arr=[]\n",
        "#   for s in n:\n",
        "#     if int(s) in range(b):\n",
        "#       arr.append(int(s))\n",
        "  \n",
        "#   arr.sort()\n",
        "#   y=\"\".join(list(map(str,arr)))\n",
        "#   y_size=size(y,n)\n",
        "  \n",
        "#   arr.reverse()\n",
        "#   x=\"\".join(list(map(str,arr)))\n",
        "#   x_size=size(x,n)\n",
        "  \n",
        "#   z=int(x)-int(y)\n",
        "#   z=str(z)\n",
        "#   z_size=size(z,n)\n",
        "#   print(\"x:{0}, y:{1}, z:{2}\".format(x_size,y_size,z_size))\n",
        "#   print()\n",
        "#   solution(z_size,b)\n",
        "\n",
        "# solution('210022', 3)\n",
        "\n",
        "# solution('1211', 10)"
      ],
      "execution_count": null,
      "outputs": []
    }
  ]
}