{
  "nbformat": 4,
  "nbformat_minor": 0,
  "metadata": {
    "kernelspec": {
      "display_name": "Python 3",
      "language": "python",
      "name": "python3"
    },
    "language_info": {
      "codemirror_mode": {
        "name": "ipython",
        "version": 3
      },
      "file_extension": ".py",
      "mimetype": "text/x-python",
      "name": "python",
      "nbconvert_exporter": "python",
      "pygments_lexer": "ipython3",
      "version": "3.7.4"
    },
    "colab": {
      "name": "Assignment Pandas.ipynb",
      "provenance": [],
      "include_colab_link": true
    }
  },
  "cells": [
    {
      "cell_type": "markdown",
      "metadata": {
        "id": "view-in-github",
        "colab_type": "text"
      },
      "source": [
        "<a href=\"https://colab.research.google.com/github/capitallatera/Assignments/blob/master/Assignment_Pandas.ipynb\" target=\"_parent\"><img src=\"https://colab.research.google.com/assets/colab-badge.svg\" alt=\"Open In Colab\"/></a>"
      ]
    },
    {
      "cell_type": "code",
      "metadata": {
        "id": "o8rdvmVpMewC",
        "colab_type": "code",
        "colab": {}
      },
      "source": [
        "import numpy as np\n",
        "import pandas as pd"
      ],
      "execution_count": 0,
      "outputs": []
    },
    {
      "cell_type": "code",
      "metadata": {
        "id": "TFnzyr6wMewU",
        "colab_type": "code",
        "colab": {},
        "outputId": "f476a7d2-ebca-46ab-9762-f25254d60981"
      },
      "source": [
        "# Write a Python program to create and display a one- dimensional array-like object containing an array of data using Pandas module.\n",
        "arr=pd.Series([1,2,3,4,5])\n",
        "print(type(arr))\n",
        "arr"
      ],
      "execution_count": 0,
      "outputs": [
        {
          "output_type": "stream",
          "text": [
            "<class 'pandas.core.series.Series'>\n"
          ],
          "name": "stdout"
        },
        {
          "output_type": "execute_result",
          "data": {
            "text/plain": [
              "0    1\n",
              "1    2\n",
              "2    3\n",
              "3    4\n",
              "4    5\n",
              "dtype: int64"
            ]
          },
          "metadata": {
            "tags": []
          },
          "execution_count": 21
        }
      ]
    },
    {
      "cell_type": "code",
      "metadata": {
        "id": "ZMu047llMewm",
        "colab_type": "code",
        "colab": {},
        "outputId": "2f6f5f34-477d-4615-d3fc-7b583b31b540"
      },
      "source": [
        "# Write a Python program to convert a Panda module Series to Python list and its type. \n",
        "arr=pd.Series([1,2,3,4,5])\n",
        "print(type(arr),\"\\n\")\n",
        "print(type(list(arr)),\"\\n\",list(arr))"
      ],
      "execution_count": 0,
      "outputs": [
        {
          "output_type": "stream",
          "text": [
            "<class 'pandas.core.series.Series'> \n",
            "\n",
            "<class 'list'> \n",
            " [1, 2, 3, 4, 5]\n"
          ],
          "name": "stdout"
        }
      ]
    },
    {
      "cell_type": "markdown",
      "metadata": {
        "id": "w4ej5rUNMew0",
        "colab_type": "raw"
      },
      "source": [
        ""
      ]
    },
    {
      "cell_type": "code",
      "metadata": {
        "id": "rqE-Gk1AMew2",
        "colab_type": "code",
        "colab": {},
        "outputId": "d5da82c5-5c30-4116-d704-33479318c0f2"
      },
      "source": [
        "# Write a Python program to add, subtract, multiple and divide two Pandas Series.\n",
        "arr_1=pd.Series([6,7,8,9,1])\n",
        "arr_2=pd.Series([1,2,3,4,5])\n",
        "\n",
        "add=arr_1.add(arr_2)\n",
        "sub=arr_1.subtract(arr_2)\n",
        "mul=arr_1.mul(arr_2)\n",
        "div=arr_1.div(arr_2)\n",
        "\n",
        "table={'arr_1':arr_1,'arr_2':arr_2,'Add':add,'Subtract':sub,'Multiplication':mul,'Division':div} \n",
        "df=pd.DataFrame(table)\n",
        "df"
      ],
      "execution_count": 0,
      "outputs": [
        {
          "output_type": "execute_result",
          "data": {
            "text/html": [
              "<div>\n",
              "<style scoped>\n",
              "    .dataframe tbody tr th:only-of-type {\n",
              "        vertical-align: middle;\n",
              "    }\n",
              "\n",
              "    .dataframe tbody tr th {\n",
              "        vertical-align: top;\n",
              "    }\n",
              "\n",
              "    .dataframe thead th {\n",
              "        text-align: right;\n",
              "    }\n",
              "</style>\n",
              "<table border=\"1\" class=\"dataframe\">\n",
              "  <thead>\n",
              "    <tr style=\"text-align: right;\">\n",
              "      <th></th>\n",
              "      <th>arr_1</th>\n",
              "      <th>arr_2</th>\n",
              "      <th>Add</th>\n",
              "      <th>Subtract</th>\n",
              "      <th>Multiplication</th>\n",
              "      <th>Division</th>\n",
              "    </tr>\n",
              "  </thead>\n",
              "  <tbody>\n",
              "    <tr>\n",
              "      <td>0</td>\n",
              "      <td>6</td>\n",
              "      <td>1</td>\n",
              "      <td>7</td>\n",
              "      <td>5</td>\n",
              "      <td>6</td>\n",
              "      <td>6.000000</td>\n",
              "    </tr>\n",
              "    <tr>\n",
              "      <td>1</td>\n",
              "      <td>7</td>\n",
              "      <td>2</td>\n",
              "      <td>9</td>\n",
              "      <td>5</td>\n",
              "      <td>14</td>\n",
              "      <td>3.500000</td>\n",
              "    </tr>\n",
              "    <tr>\n",
              "      <td>2</td>\n",
              "      <td>8</td>\n",
              "      <td>3</td>\n",
              "      <td>11</td>\n",
              "      <td>5</td>\n",
              "      <td>24</td>\n",
              "      <td>2.666667</td>\n",
              "    </tr>\n",
              "    <tr>\n",
              "      <td>3</td>\n",
              "      <td>9</td>\n",
              "      <td>4</td>\n",
              "      <td>13</td>\n",
              "      <td>5</td>\n",
              "      <td>36</td>\n",
              "      <td>2.250000</td>\n",
              "    </tr>\n",
              "    <tr>\n",
              "      <td>4</td>\n",
              "      <td>1</td>\n",
              "      <td>5</td>\n",
              "      <td>6</td>\n",
              "      <td>-4</td>\n",
              "      <td>5</td>\n",
              "      <td>0.200000</td>\n",
              "    </tr>\n",
              "  </tbody>\n",
              "</table>\n",
              "</div>"
            ],
            "text/plain": [
              "   arr_1  arr_2  Add  Subtract  Multiplication  Division\n",
              "0      6      1    7         5               6  6.000000\n",
              "1      7      2    9         5              14  3.500000\n",
              "2      8      3   11         5              24  2.666667\n",
              "3      9      4   13         5              36  2.250000\n",
              "4      1      5    6        -4               5  0.200000"
            ]
          },
          "metadata": {
            "tags": []
          },
          "execution_count": 68
        }
      ]
    },
    {
      "cell_type": "code",
      "metadata": {
        "id": "CD1zk_3GMexA",
        "colab_type": "code",
        "colab": {},
        "outputId": "5b3a8015-3267-4796-bedf-5ac27503d11f"
      },
      "source": [
        "# Write a Python program to compare the elements of the two Pandas Series.\n",
        "arr_1=pd.Series(np.random.randint(1,6,5))\n",
        "arr_2=pd.Series(np.random.randint(1,9,5))\n",
        "equals=arr_1==arr_2\n",
        "greaterthen=arr_1>arr_2\n",
        "lessthen=arr_1<arr_2\n",
        "data=pd.DataFrame({\"arr_1\":arr_1,\"arr_2\":arr_2,\"==\":equals,\">\":greaterthen,\"<\":lessthen})\n",
        "data  "
      ],
      "execution_count": 0,
      "outputs": [
        {
          "output_type": "execute_result",
          "data": {
            "text/html": [
              "<div>\n",
              "<style scoped>\n",
              "    .dataframe tbody tr th:only-of-type {\n",
              "        vertical-align: middle;\n",
              "    }\n",
              "\n",
              "    .dataframe tbody tr th {\n",
              "        vertical-align: top;\n",
              "    }\n",
              "\n",
              "    .dataframe thead th {\n",
              "        text-align: right;\n",
              "    }\n",
              "</style>\n",
              "<table border=\"1\" class=\"dataframe\">\n",
              "  <thead>\n",
              "    <tr style=\"text-align: right;\">\n",
              "      <th></th>\n",
              "      <th>arr_1</th>\n",
              "      <th>arr_2</th>\n",
              "      <th>==</th>\n",
              "      <th>&gt;</th>\n",
              "      <th>&lt;</th>\n",
              "    </tr>\n",
              "  </thead>\n",
              "  <tbody>\n",
              "    <tr>\n",
              "      <td>0</td>\n",
              "      <td>4</td>\n",
              "      <td>2</td>\n",
              "      <td>False</td>\n",
              "      <td>True</td>\n",
              "      <td>False</td>\n",
              "    </tr>\n",
              "    <tr>\n",
              "      <td>1</td>\n",
              "      <td>2</td>\n",
              "      <td>6</td>\n",
              "      <td>False</td>\n",
              "      <td>False</td>\n",
              "      <td>True</td>\n",
              "    </tr>\n",
              "    <tr>\n",
              "      <td>2</td>\n",
              "      <td>2</td>\n",
              "      <td>2</td>\n",
              "      <td>True</td>\n",
              "      <td>False</td>\n",
              "      <td>False</td>\n",
              "    </tr>\n",
              "    <tr>\n",
              "      <td>3</td>\n",
              "      <td>5</td>\n",
              "      <td>3</td>\n",
              "      <td>False</td>\n",
              "      <td>True</td>\n",
              "      <td>False</td>\n",
              "    </tr>\n",
              "    <tr>\n",
              "      <td>4</td>\n",
              "      <td>2</td>\n",
              "      <td>5</td>\n",
              "      <td>False</td>\n",
              "      <td>False</td>\n",
              "      <td>True</td>\n",
              "    </tr>\n",
              "  </tbody>\n",
              "</table>\n",
              "</div>"
            ],
            "text/plain": [
              "   arr_1  arr_2     ==      >      <\n",
              "0      4      2  False   True  False\n",
              "1      2      6  False  False   True\n",
              "2      2      2   True  False  False\n",
              "3      5      3  False   True  False\n",
              "4      2      5  False  False   True"
            ]
          },
          "metadata": {
            "tags": []
          },
          "execution_count": 137
        }
      ]
    },
    {
      "cell_type": "code",
      "metadata": {
        "id": "B2eND5dsMexN",
        "colab_type": "code",
        "colab": {},
        "outputId": "ad32e3e1-29fe-44eb-b060-0e87d68db330"
      },
      "source": [
        "# Write a Python program to display the following data column wise.\n",
        "## data is self generated\n",
        "## dataset required\n",
        "data={\"A\":[1,2,3,4,5],\"B\":[6,7,8,9,0]}\n",
        "df=pd.DataFrame(data)\n",
        "df"
      ],
      "execution_count": 0,
      "outputs": [
        {
          "output_type": "execute_result",
          "data": {
            "text/html": [
              "<div>\n",
              "<style scoped>\n",
              "    .dataframe tbody tr th:only-of-type {\n",
              "        vertical-align: middle;\n",
              "    }\n",
              "\n",
              "    .dataframe tbody tr th {\n",
              "        vertical-align: top;\n",
              "    }\n",
              "\n",
              "    .dataframe thead th {\n",
              "        text-align: right;\n",
              "    }\n",
              "</style>\n",
              "<table border=\"1\" class=\"dataframe\">\n",
              "  <thead>\n",
              "    <tr style=\"text-align: right;\">\n",
              "      <th></th>\n",
              "      <th>A</th>\n",
              "      <th>B</th>\n",
              "    </tr>\n",
              "  </thead>\n",
              "  <tbody>\n",
              "    <tr>\n",
              "      <td>0</td>\n",
              "      <td>1</td>\n",
              "      <td>6</td>\n",
              "    </tr>\n",
              "    <tr>\n",
              "      <td>1</td>\n",
              "      <td>2</td>\n",
              "      <td>7</td>\n",
              "    </tr>\n",
              "    <tr>\n",
              "      <td>2</td>\n",
              "      <td>3</td>\n",
              "      <td>8</td>\n",
              "    </tr>\n",
              "    <tr>\n",
              "      <td>3</td>\n",
              "      <td>4</td>\n",
              "      <td>9</td>\n",
              "    </tr>\n",
              "    <tr>\n",
              "      <td>4</td>\n",
              "      <td>5</td>\n",
              "      <td>0</td>\n",
              "    </tr>\n",
              "  </tbody>\n",
              "</table>\n",
              "</div>"
            ],
            "text/plain": [
              "   A  B\n",
              "0  1  6\n",
              "1  2  7\n",
              "2  3  8\n",
              "3  4  9\n",
              "4  5  0"
            ]
          },
          "metadata": {
            "tags": []
          },
          "execution_count": 138
        }
      ]
    },
    {
      "cell_type": "code",
      "metadata": {
        "id": "HPCiVEv0MexZ",
        "colab_type": "code",
        "colab": {},
        "outputId": "46f28b5d-1f6d-4267-81e5-88b994758957"
      },
      "source": [
        "#  Write a Python program to create and display a Data Frame from a specified dictionary data which has the index labels. \n",
        "data={\"A\":[1,2,3,4,5],\"B\":[6,7,8,9,0]}\n",
        "df=pd.DataFrame(data)\n",
        "print(df)\n",
        "df=pd.DataFrame(data,index=list('abcde'))\n",
        "df"
      ],
      "execution_count": 0,
      "outputs": [
        {
          "output_type": "stream",
          "text": [
            "   A  B\n",
            "0  1  6\n",
            "1  2  7\n",
            "2  3  8\n",
            "3  4  9\n",
            "4  5  0\n"
          ],
          "name": "stdout"
        },
        {
          "output_type": "execute_result",
          "data": {
            "text/html": [
              "<div>\n",
              "<style scoped>\n",
              "    .dataframe tbody tr th:only-of-type {\n",
              "        vertical-align: middle;\n",
              "    }\n",
              "\n",
              "    .dataframe tbody tr th {\n",
              "        vertical-align: top;\n",
              "    }\n",
              "\n",
              "    .dataframe thead th {\n",
              "        text-align: right;\n",
              "    }\n",
              "</style>\n",
              "<table border=\"1\" class=\"dataframe\">\n",
              "  <thead>\n",
              "    <tr style=\"text-align: right;\">\n",
              "      <th></th>\n",
              "      <th>A</th>\n",
              "      <th>B</th>\n",
              "    </tr>\n",
              "  </thead>\n",
              "  <tbody>\n",
              "    <tr>\n",
              "      <td>a</td>\n",
              "      <td>1</td>\n",
              "      <td>6</td>\n",
              "    </tr>\n",
              "    <tr>\n",
              "      <td>b</td>\n",
              "      <td>2</td>\n",
              "      <td>7</td>\n",
              "    </tr>\n",
              "    <tr>\n",
              "      <td>c</td>\n",
              "      <td>3</td>\n",
              "      <td>8</td>\n",
              "    </tr>\n",
              "    <tr>\n",
              "      <td>d</td>\n",
              "      <td>4</td>\n",
              "      <td>9</td>\n",
              "    </tr>\n",
              "    <tr>\n",
              "      <td>e</td>\n",
              "      <td>5</td>\n",
              "      <td>0</td>\n",
              "    </tr>\n",
              "  </tbody>\n",
              "</table>\n",
              "</div>"
            ],
            "text/plain": [
              "   A  B\n",
              "a  1  6\n",
              "b  2  7\n",
              "c  3  8\n",
              "d  4  9\n",
              "e  5  0"
            ]
          },
          "metadata": {
            "tags": []
          },
          "execution_count": 145
        }
      ]
    },
    {
      "cell_type": "code",
      "metadata": {
        "id": "gL2JDd7QMexk",
        "colab_type": "code",
        "colab": {},
        "outputId": "b83932f4-5b86-4e06-cf3a-1e44e2140f24"
      },
      "source": [
        "# # Write a Python program to select the specified columns and rows from a given Data Frame. \n",
        "\n",
        "data={\"A\":[1,2,3,4,5],\"B\":[6,7,8,9,0],\"P\":[\"a\",'b','c','d','e'],\"Q\":['f','g','h','i','j']}\n",
        "df=pd.DataFrame(data)\n",
        "print(df)\n",
        "print(\"Selecting specified column \\n\")\n",
        "print(df[[\"A\",\"P\"]])\n",
        "print(\"\\nSelecting specified rows \\n \")\n",
        "print(df.iloc[[0,2,4]])\n"
      ],
      "execution_count": 0,
      "outputs": [
        {
          "output_type": "stream",
          "text": [
            "   A  B  P  Q\n",
            "0  1  6  a  f\n",
            "1  2  7  b  g\n",
            "2  3  8  c  h\n",
            "3  4  9  d  i\n",
            "4  5  0  e  j\n",
            "Selecting specified column \n",
            "\n",
            "   A  P\n",
            "0  1  a\n",
            "1  2  b\n",
            "2  3  c\n",
            "3  4  d\n",
            "4  5  e\n",
            "\n",
            "Selecting specified rows \n",
            " \n",
            "   A  B  P  Q\n",
            "0  1  6  a  f\n",
            "2  3  8  c  h\n",
            "4  5  0  e  j\n"
          ],
          "name": "stdout"
        }
      ]
    },
    {
      "cell_type": "code",
      "metadata": {
        "id": "LOY8HTQLMexr",
        "colab_type": "code",
        "colab": {}
      },
      "source": [
        "# Write a Python program to select the rows the score is between 15 and 20 (inclusive). \n",
        "## dataset required"
      ],
      "execution_count": 0,
      "outputs": []
    },
    {
      "cell_type": "code",
      "metadata": {
        "id": "kz3b_PG4Mex3",
        "colab_type": "code",
        "colab": {}
      },
      "source": [
        "# Write a Python program to select the rows where number of attempts in the examination is less than 2 and score greater than 15.\n",
        "## dataset required"
      ],
      "execution_count": 0,
      "outputs": []
    },
    {
      "cell_type": "code",
      "metadata": {
        "id": "9RBCvsuDMeyA",
        "colab_type": "code",
        "colab": {}
      },
      "source": [
        "# Write a Python program to append a new row 'k' to Data Frame with given values for each column. Now delete the new row and return the original data frame."
      ],
      "execution_count": 0,
      "outputs": []
    },
    {
      "cell_type": "code",
      "metadata": {
        "id": "iQWfF-z3MeyJ",
        "colab_type": "code",
        "colab": {}
      },
      "source": [
        "# Write a Python program to sort the data frame first by 'name' in descending order, then by 'score' in ascending order. \n",
        "## dataset required"
      ],
      "execution_count": 0,
      "outputs": []
    },
    {
      "cell_type": "code",
      "metadata": {
        "id": "WN4nymOuMeyT",
        "colab_type": "code",
        "colab": {}
      },
      "source": [
        "# Write a Python program to insert a new column in existing Data Frame. "
      ],
      "execution_count": 0,
      "outputs": []
    },
    {
      "cell_type": "code",
      "metadata": {
        "id": "U--_W9LMMeyc",
        "colab_type": "code",
        "colab": {}
      },
      "source": [
        "# Write a Python program to change the name 'James' to 'Suresh' in name column of the data frame. \n",
        "## dataset required"
      ],
      "execution_count": 0,
      "outputs": []
    }
  ]
}