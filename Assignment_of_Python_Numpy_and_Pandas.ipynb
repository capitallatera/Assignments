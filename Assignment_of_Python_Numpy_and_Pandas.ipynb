{
  "nbformat": 4,
  "nbformat_minor": 0,
  "metadata": {
    "kernelspec": {
      "display_name": "Python 3",
      "language": "python",
      "name": "python3"
    },
    "language_info": {
      "codemirror_mode": {
        "name": "ipython",
        "version": 3
      },
      "file_extension": ".py",
      "mimetype": "text/x-python",
      "name": "python",
      "nbconvert_exporter": "python",
      "pygments_lexer": "ipython3",
      "version": "3.7.4"
    },
    "colab": {
      "name": "Assignment of Python Numpy and Pandas.ipynb",
      "provenance": [],
      "include_colab_link": true
    }
  },
  "cells": [
    {
      "cell_type": "markdown",
      "metadata": {
        "id": "view-in-github",
        "colab_type": "text"
      },
      "source": [
        "<a href=\"https://colab.research.google.com/github/capitallatera/Assignments/blob/master/Assignment_of_Python_Numpy_and_Pandas.ipynb\" target=\"_parent\"><img src=\"https://colab.research.google.com/assets/colab-badge.svg\" alt=\"Open In Colab\"/></a>"
      ]
    },
    {
      "cell_type": "code",
      "metadata": {
        "id": "qa9Ikh_0TYbd",
        "colab_type": "code",
        "colab": {},
        "outputId": "aea1a52f-afdc-4417-a786-76720eff9eb3"
      },
      "source": [
        "# Write a Python program to print the NumPy version in your system.\n",
        "import numpy as np\n",
        "\n",
        "\"__version__\" in dir(np)\n",
        "np.__version__"
      ],
      "execution_count": 0,
      "outputs": [
        {
          "output_type": "execute_result",
          "data": {
            "text/plain": [
              "'1.17.2'"
            ]
          },
          "metadata": {
            "tags": []
          },
          "execution_count": 25
        }
      ]
    },
    {
      "cell_type": "code",
      "metadata": {
        "id": "KhATkvzJTYbv",
        "colab_type": "code",
        "colab": {},
        "outputId": "f642e673-c14f-4aaa-b88e-1b02bbc3d40b"
      },
      "source": [
        "# Write a Python program to reverse an array (first element becomes last). \n",
        "arr=np.arange(1,11)\n",
        "print(\"Array :{}\".format(arr))\n",
        "print(\"Reverse_Array :{}\".format(arr[::-1]))"
      ],
      "execution_count": 0,
      "outputs": [
        {
          "output_type": "stream",
          "text": [
            "Array :[ 1  2  3  4  5  6  7  8  9 10]\n",
            "Reverse_Array :[10  9  8  7  6  5  4  3  2  1]\n"
          ],
          "name": "stdout"
        }
      ]
    },
    {
      "cell_type": "code",
      "metadata": {
        "id": "x_kEc7ZQTYcC",
        "colab_type": "code",
        "colab": {},
        "outputId": "081e01a8-996c-4e0c-9fe0-982279b0bc6b"
      },
      "source": [
        "# Write a Python program to convert a list and tuple into arrays.\n",
        "l_1=list(arr)\n",
        "# list into arrays\n",
        "print(type(l_1))\n",
        "print(type(np.array(l_1)))\n",
        "print(np.array(l_1),\"\\n\")\n",
        "\n",
        "# tupel into arrays\n",
        "t_1=tuple(arr)\n",
        "print(type(t_1))\n",
        "print(type(np.array(t_1)))\n",
        "print(np.array(t_1))"
      ],
      "execution_count": 0,
      "outputs": [
        {
          "output_type": "stream",
          "text": [
            "<class 'list'>\n",
            "<class 'numpy.ndarray'>\n",
            "[ 1  2  3  4  5  6  7  8  9 10] \n",
            "\n",
            "<class 'tuple'>\n",
            "<class 'numpy.ndarray'>\n",
            "[ 1  2  3  4  5  6  7  8  9 10]\n"
          ],
          "name": "stdout"
        }
      ]
    },
    {
      "cell_type": "code",
      "metadata": {
        "id": "-Pugm61BTYcQ",
        "colab_type": "code",
        "colab": {},
        "outputId": "8c108311-a884-48f1-a6ce-e561edfc4ee6"
      },
      "source": [
        "# Write a Python program to find common values between two arrays. \n",
        "arr_1=np.random.randint(1,9,5)\n",
        "arr_2=np.random.randint(1,9,5)\n",
        "print(arr_1)\n",
        "print(arr_2)\n",
        "\n",
        "print(\"Common elements : \",np.unique([i for i in arr_1 for j in arr_2 if i==j]))"
      ],
      "execution_count": 0,
      "outputs": [
        {
          "output_type": "stream",
          "text": [
            "[8 5 6 6 7]\n",
            "[5 6 3 3 2]\n",
            "Common elements :  [5 6]\n"
          ],
          "name": "stdout"
        }
      ]
    },
    {
      "cell_type": "code",
      "metadata": {
        "id": "uBUEpj3eTYcc",
        "colab_type": "code",
        "colab": {},
        "outputId": "a993c8a5-1aae-4a93-d0f8-9bee5015ab8b"
      },
      "source": [
        "# Write a Python program compare two arrays using numpy.\n",
        "arr_1=np.random.randint(1,9,5)\n",
        "arr_2=np.random.randint(1,9,5)\n",
        "print(arr_1)\n",
        "print(arr_2,\"\\n\")\n",
        "print(arr_1==arr_2)"
      ],
      "execution_count": 0,
      "outputs": [
        {
          "output_type": "stream",
          "text": [
            "[6 4 8 4 3]\n",
            "[6 7 4 7 3] \n",
            "\n",
            "[ True False False False  True]\n"
          ],
          "name": "stdout"
        }
      ]
    },
    {
      "cell_type": "code",
      "metadata": {
        "id": "MB6m-h16TYcp",
        "colab_type": "code",
        "colab": {},
        "outputId": "6ea83544-9fa1-4c6c-95b4-51896c8a6abf"
      },
      "source": [
        "# Write a Python program to change the dimension of an array.\n",
        "arr_3=np.random.randint(1,13,10).reshape(5,2)\n",
        "print(arr_3,\"\\n\")                 # in 5x2 dimension\n",
        "print(arr_3.reshape(2,5))         # in 2,5 dimension"
      ],
      "execution_count": 0,
      "outputs": [
        {
          "output_type": "stream",
          "text": [
            "[[ 4  6]\n",
            " [ 3  4]\n",
            " [ 5  7]\n",
            " [ 3  6]\n",
            " [ 6 10]] \n",
            "\n",
            "[[ 4  6  3  4  5]\n",
            " [ 7  3  6  6 10]]\n"
          ],
          "name": "stdout"
        }
      ]
    },
    {
      "cell_type": "code",
      "metadata": {
        "id": "8qoy-9_xTYc0",
        "colab_type": "code",
        "colab": {},
        "outputId": "040633d3-acc7-4182-f489-45b7ff81c09e"
      },
      "source": [
        "# Write a Python program (using numpy) to sum of all the multiples of 3 or 5 below 100. \n",
        "num=np.arange(1,101)\n",
        "print(num)\n",
        "\n",
        "np.sum([i for i in num if i%3==0 or i%5==0])"
      ],
      "execution_count": 0,
      "outputs": [
        {
          "output_type": "stream",
          "text": [
            "[  1   2   3   4   5   6   7   8   9  10  11  12  13  14  15  16  17  18\n",
            "  19  20  21  22  23  24  25  26  27  28  29  30  31  32  33  34  35  36\n",
            "  37  38  39  40  41  42  43  44  45  46  47  48  49  50  51  52  53  54\n",
            "  55  56  57  58  59  60  61  62  63  64  65  66  67  68  69  70  71  72\n",
            "  73  74  75  76  77  78  79  80  81  82  83  84  85  86  87  88  89  90\n",
            "  91  92  93  94  95  96  97  98  99 100]\n"
          ],
          "name": "stdout"
        },
        {
          "output_type": "execute_result",
          "data": {
            "text/plain": [
              "2418"
            ]
          },
          "metadata": {
            "tags": []
          },
          "execution_count": 248
        }
      ]
    },
    {
      "cell_type": "code",
      "metadata": {
        "id": "f5mBofF_TYc9",
        "colab_type": "code",
        "colab": {},
        "outputId": "94ca83a3-4788-4909-d11b-b51b346a8d5f"
      },
      "source": [
        "# Write a Python program to convert a NumPy array into Python list structure. \n",
        "arr_4=np.arange(1,11)\n",
        "print(type(arr_4))\n",
        "print(arr_4,\"\\n\")\n",
        "\n",
        "l=list(arr_4)\n",
        "print(type(l),\"\\n\",l)\n"
      ],
      "execution_count": 0,
      "outputs": [
        {
          "output_type": "stream",
          "text": [
            "<class 'numpy.ndarray'>\n",
            "[ 1  2  3  4  5  6  7  8  9 10] \n",
            "\n",
            "<class 'list'> \n",
            " [1, 2, 3, 4, 5, 6, 7, 8, 9, 10]\n"
          ],
          "name": "stdout"
        }
      ]
    },
    {
      "cell_type": "code",
      "metadata": {
        "id": "3ToFXwH6TYdF",
        "colab_type": "code",
        "colab": {}
      },
      "source": [
        "import pandas as pd"
      ],
      "execution_count": 0,
      "outputs": []
    },
    {
      "cell_type": "code",
      "metadata": {
        "id": "Ki4vCzyLTYdP",
        "colab_type": "code",
        "colab": {},
        "outputId": "b15b9c13-c0e0-4d19-fbee-b1925ccb8d31"
      },
      "source": [
        "#  Write a Python program to how to add an extra column to a numpy array.\n",
        "\n",
        "x=np.array([[1],[6]])\n",
        "y=np.array([[11],[22]])\n",
        "print(x,\"\\n\")\n",
        "print(np.append(x,y,axis=1))\n",
        "\n"
      ],
      "execution_count": 0,
      "outputs": [
        {
          "output_type": "stream",
          "text": [
            "[[1]\n",
            " [6]] \n",
            "\n",
            "[[ 1 11]\n",
            " [ 6 22]]\n"
          ],
          "name": "stdout"
        }
      ]
    },
    {
      "cell_type": "code",
      "metadata": {
        "id": "o1FExMvPTYda",
        "colab_type": "code",
        "colab": {},
        "outputId": "284a98cf-176e-458c-e2f6-c36c412d7e47"
      },
      "source": [
        "# Write a Python program to check whether the numpy array is empty or not. \n",
        "arr_7=np.array([])\n",
        "\n",
        "l=[\"empty\" if arr_7.size==0 else \"Not empty\"]\n",
        "l"
      ],
      "execution_count": 0,
      "outputs": [
        {
          "output_type": "execute_result",
          "data": {
            "text/plain": [
              "['empty']"
            ]
          },
          "metadata": {
            "tags": []
          },
          "execution_count": 357
        }
      ]
    },
    {
      "cell_type": "code",
      "metadata": {
        "id": "0yPRl0QdTYdj",
        "colab_type": "code",
        "colab": {},
        "outputId": "ba5818bd-1979-4388-e7e6-92121ae2e3dc"
      },
      "source": [
        "# Write a Python program to normalize a 3x3 random matrix. \n",
        "a=np.random.randint(1,11,9).reshape(3,3)\n",
        "print(a,\"\\n\")\n",
        "xmin,xmax=a.min(),a.max()\n",
        "x=(a-xmin)/(xmax-xmin)\n",
        "print(x)\n"
      ],
      "execution_count": 0,
      "outputs": [
        {
          "output_type": "stream",
          "text": [
            "[[8 8 1]\n",
            " [3 1 9]\n",
            " [1 8 2]] \n",
            "\n",
            "[[0.875 0.875 0.   ]\n",
            " [0.25  0.    1.   ]\n",
            " [0.    0.875 0.125]]\n"
          ],
          "name": "stdout"
        }
      ]
    },
    {
      "cell_type": "code",
      "metadata": {
        "id": "VxaXIf5mTYdu",
        "colab_type": "code",
        "colab": {}
      },
      "source": [
        "# How to ignore all numpy warnings (not recommended)?\n",
        "## Pending"
      ],
      "execution_count": 0,
      "outputs": []
    },
    {
      "cell_type": "code",
      "metadata": {
        "id": "oMH52IdxTYd5",
        "colab_type": "code",
        "colab": {},
        "outputId": "398a4f78-65c8-4dd6-b3a4-c80bc759bcb9"
      },
      "source": [
        "# How to swap two rows of an array? \n",
        "arr_8=np.array([[1,2,3],[4,5,6]])\n",
        "print(arr_8,\"\\n\")\n",
        "\n",
        "arr_8[[0,1]]=arr_8[[1,0]]\n",
        "print(arr_8)"
      ],
      "execution_count": 0,
      "outputs": [
        {
          "output_type": "stream",
          "text": [
            "[[1 2 3]\n",
            " [4 5 6]] \n",
            "\n",
            "[[4 5 6]\n",
            " [1 2 3]]\n"
          ],
          "name": "stdout"
        }
      ]
    },
    {
      "cell_type": "code",
      "metadata": {
        "id": "q3nQxNa-TYeC",
        "colab_type": "code",
        "colab": {}
      },
      "source": [
        "# Compute bootstrapped 95% confidence intervals for the mean of a 1D array X \n",
        "# (i.e., resample the elements of an array with replacement N times, compute the mean of each sample, and \n",
        "# then compute percentiles over the means). \n",
        "## Pending"
      ],
      "execution_count": 0,
      "outputs": []
    },
    {
      "cell_type": "code",
      "metadata": {
        "id": "k2bL_71xTYeL",
        "colab_type": "code",
        "colab": {},
        "outputId": "04d20f85-df3a-4fba-b44b-fe3f205df113"
      },
      "source": [
        "# Python program to create a random vector of size 10 and sort it. \n",
        "arr=np.random.randint(1,11,10)\n",
        "print(arr,\"\\n\")\n",
        "\n",
        "print(np.sort(arr))"
      ],
      "execution_count": 0,
      "outputs": [
        {
          "output_type": "stream",
          "text": [
            "[3 8 8 4 4 3 3 5 5 2] \n",
            "\n",
            "[2 3 3 3 4 4 5 5 8 8]\n"
          ],
          "name": "stdout"
        }
      ]
    },
    {
      "cell_type": "code",
      "metadata": {
        "id": "h28SB3M0TYeT",
        "colab_type": "code",
        "colab": {},
        "outputId": "db4a8df5-0081-4def-ea34-ac2c17852a23"
      },
      "source": [
        "# Write a Python program to check two random arrays are equal or not. \n",
        "arr_01=np.random.randint(1,11,10)\n",
        "arr_02=np.random.randint(1,11,10)\n",
        "print(arr_01,\"\\n\",arr_02)\n",
        "\n",
        "np.unique([i for i in arr_01 for j in arr_02 if i==j])"
      ],
      "execution_count": 0,
      "outputs": [
        {
          "output_type": "stream",
          "text": [
            "[3 4 6 5 4 1 7 1 9 8] \n",
            " [ 2  2  6  6  9  6  4 10  6  5]\n"
          ],
          "name": "stdout"
        },
        {
          "output_type": "execute_result",
          "data": {
            "text/plain": [
              "array([4, 5, 6, 9])"
            ]
          },
          "metadata": {
            "tags": []
          },
          "execution_count": 454
        }
      ]
    },
    {
      "cell_type": "code",
      "metadata": {
        "id": "VueoTybLTYeb",
        "colab_type": "code",
        "colab": {},
        "outputId": "e24709c9-4332-4998-eaa9-8ff769d74c10"
      },
      "source": [
        "# Write a Python program to add, subtract, multiply, divide arguments element-wise. \n",
        "\n",
        "print(np.add(10,20))\n",
        "print(np.subtract(20,10))\n",
        "print(np.multiply(2,4))\n",
        "print(np.divide(4,2))"
      ],
      "execution_count": 0,
      "outputs": [
        {
          "output_type": "stream",
          "text": [
            "30\n",
            "10\n",
            "8\n",
            "2.0\n"
          ],
          "name": "stdout"
        }
      ]
    },
    {
      "cell_type": "code",
      "metadata": {
        "id": "vuQM6LxjTYei",
        "colab_type": "code",
        "colab": {},
        "outputId": "65a4d6fe-2bed-46e6-bbb2-d87e025174bf"
      },
      "source": [
        "# Write a Python program to get the dates of yesterday, today and tomorrow. \n",
        "print(np.datetime64('today','D')-np.timedelta64(1,'D'))\n",
        "print(np.datetime64('today','D'))\n",
        "print(np.datetime64('today','D')+np.timedelta64(1,'D'))"
      ],
      "execution_count": 0,
      "outputs": [
        {
          "output_type": "stream",
          "text": [
            "2020-05-06\n",
            "2020-05-07\n",
            "2020-05-08\n"
          ],
          "name": "stdout"
        }
      ]
    }
  ]
}