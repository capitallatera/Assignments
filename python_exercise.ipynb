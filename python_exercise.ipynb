{
  "nbformat": 4,
  "nbformat_minor": 0,
  "metadata": {
    "colab": {
      "name": "python_exercise.ipynb",
      "provenance": [],
      "collapsed_sections": [],
      "authorship_tag": "ABX9TyNmyRuX7M+h8L5Cm9Ko147/",
      "include_colab_link": true
    },
    "kernelspec": {
      "display_name": "Python 3",
      "name": "python3"
    },
    "language_info": {
      "name": "python"
    }
  },
  "cells": [
    {
      "cell_type": "markdown",
      "metadata": {
        "id": "view-in-github",
        "colab_type": "text"
      },
      "source": [
        "<a href=\"https://colab.research.google.com/github/capitallatera/Assignments/blob/master/python_exercise.ipynb\" target=\"_parent\"><img src=\"https://colab.research.google.com/assets/colab-badge.svg\" alt=\"Open In Colab\"/></a>"
      ]
    },
    {
      "cell_type": "code",
      "metadata": {
        "colab": {
          "base_uri": "https://localhost:8080/"
        },
        "id": "xdTLGqYL8dp5",
        "outputId": "452f01a6-345d-4c40-a0f4-986a1fe4fa3b"
      },
      "source": [
        "# Print hello world\n",
        "print(\"Hello World\")"
      ],
      "execution_count": null,
      "outputs": [
        {
          "output_type": "stream",
          "text": [
            "Hello World\n"
          ],
          "name": "stdout"
        }
      ]
    },
    {
      "cell_type": "code",
      "metadata": {
        "colab": {
          "base_uri": "https://localhost:8080/"
        },
        "id": "28f1tA-l82BF",
        "outputId": "6d5c317e-27ef-4757-f7c4-a30bfc9cf7a8"
      },
      "source": [
        "# Add two numbers\n",
        "num1=int(input(\"Enter first number :\"))\n",
        "num2=int(input(\"Enter second number :\"))\n",
        "print(\"Sum is \",num1+num2)"
      ],
      "execution_count": null,
      "outputs": [
        {
          "output_type": "stream",
          "text": [
            "Enter first number :10\n",
            "Enter second number :20\n",
            "Sum is  30\n"
          ],
          "name": "stdout"
        }
      ]
    },
    {
      "cell_type": "code",
      "metadata": {
        "colab": {
          "base_uri": "https://localhost:8080/"
        },
        "id": "SpS1l4AJ9Vgk",
        "outputId": "5497b878-1476-45d9-c668-7b08558e7e11"
      },
      "source": [
        "# Find the squre root\n",
        "num=int(input(\"Enter the number for square root :\"))\n",
        "print('Square root of {0} is {1}'.format(num,round(num**0.5,3)))"
      ],
      "execution_count": null,
      "outputs": [
        {
          "output_type": "stream",
          "text": [
            "Enter the number for square root :4\n",
            "Square root of 4 is 2.0\n"
          ],
          "name": "stdout"
        }
      ]
    },
    {
      "cell_type": "code",
      "metadata": {
        "colab": {
          "base_uri": "https://localhost:8080/"
        },
        "id": "VOX1Cq4I-B35",
        "outputId": "19c7c592-756c-4a5f-ed5c-2e9fbe640c29"
      },
      "source": [
        "# Calculate area of triangle\n",
        "height=int(input(\"Enter the height :\"))\n",
        "base=int(input(\"Enter the base :\"))\n",
        "area=(height*base)/2\n",
        "print(\"Area of Triangle is :\", area)"
      ],
      "execution_count": null,
      "outputs": [
        {
          "output_type": "stream",
          "text": [
            "Enter the height :2\n",
            "Enter the base :4\n",
            "Area of Triangle is : 4.0\n"
          ],
          "name": "stdout"
        }
      ]
    },
    {
      "cell_type": "code",
      "metadata": {
        "colab": {
          "base_uri": "https://localhost:8080/"
        },
        "id": "sDmNaBwr-Mf9",
        "outputId": "13a7cc4b-dec6-4164-d593-6e1abd2ae416"
      },
      "source": [
        "# Calculate Quadratic Equation\n",
        "# 6x^2+12x+17\n",
        "a=int(input(\"Enter the value of a :\"))\n",
        "b=int(input(\"Enter the value of b :\"))\n",
        "c=int(input(\"Enter the value of c :\"))\n",
        "sub_result=(b**2)-(4*a*c)\n",
        "result1=(-b+sub_result**0.5)/2*a\n",
        "result2=(-b-sub_result**0.5)/2*a\n",
        "print(\"Result is :\",result1,result2)"
      ],
      "execution_count": null,
      "outputs": [
        {
          "output_type": "stream",
          "text": [
            "Enter the value of a :6\n",
            "Enter the value of b :12\n",
            "Enter the value of c :17\n",
            "Result is : (-35.99999999999999+48.744230427815765j) (-36.00000000000001-48.744230427815765j)\n"
          ],
          "name": "stdout"
        }
      ]
    },
    {
      "cell_type": "code",
      "metadata": {
        "colab": {
          "base_uri": "https://localhost:8080/"
        },
        "id": "jRKALGy7_DY-",
        "outputId": "641837ac-534f-4c2d-f8df-12b05a5e1c40"
      },
      "source": [
        "# Swap two numbers\n",
        "a=int(input(\"Enter the value of a :\"))\n",
        "b=int(input(\"Enter the value of b :\"))\n",
        "print(\"Value of a is {0} and b is {1} \".format(a,b))\n",
        "print(\"After Swapping\")\n",
        "a,b=b,a\n",
        "print(\"Value of a is {0} and b is {1} \".format(a,b))"
      ],
      "execution_count": null,
      "outputs": [
        {
          "output_type": "stream",
          "text": [
            "Enter the value of a :10\n",
            "Enter the value of b :20\n",
            "Value of a is 10 and b is 20 \n",
            "After Swapping\n",
            "Value of a is 20 and b is 10 \n"
          ],
          "name": "stdout"
        }
      ]
    },
    {
      "cell_type": "code",
      "metadata": {
        "colab": {
          "base_uri": "https://localhost:8080/"
        },
        "id": "sSIjIr0X_DlO",
        "outputId": "e9ec4b95-b9d7-444c-81ca-4c5f49a6b3b5"
      },
      "source": [
        "# Generate random number\n",
        "import random\n",
        "print(random.randint(0,10))"
      ],
      "execution_count": null,
      "outputs": [
        {
          "output_type": "stream",
          "text": [
            "0\n"
          ],
          "name": "stdout"
        }
      ]
    },
    {
      "cell_type": "code",
      "metadata": {
        "colab": {
          "base_uri": "https://localhost:8080/"
        },
        "id": "tdrGASqq_DyL",
        "outputId": "8fe75214-b0ca-476e-8350-241744e0af73"
      },
      "source": [
        "# Converting kilometres to miles\n",
        "kilometer=float(input(\"Enter the value of kilometer :\"))\n",
        "miles=kilometer*0.621371\n",
        "print(\"Value of {0} kilometer in miles is :{1}\".format(kilometer,miles))"
      ],
      "execution_count": null,
      "outputs": [
        {
          "output_type": "stream",
          "text": [
            "Enter the value of kilometer :0\n",
            "Value of 0.0 kilometer in miles is :0.0\n"
          ],
          "name": "stdout"
        }
      ]
    },
    {
      "cell_type": "code",
      "metadata": {
        "colab": {
          "base_uri": "https://localhost:8080/"
        },
        "id": "81QsGHxL_D90",
        "outputId": "83997bdb-dd1d-4c8f-972b-085a3add0313"
      },
      "source": [
        "# Converting celsius to fahrenheit\n",
        "celsius=float(input('Enter the celsius :'))\n",
        "fahrenheit=(celsius*9/5)+32\n",
        "print(\"Value of {0} degree celsius into fahrenheit is {1}\".format(celsius,fahrenheit))"
      ],
      "execution_count": null,
      "outputs": [
        {
          "output_type": "stream",
          "text": [
            "Enter the celsius :0\n",
            "Value of 0.0 degree celsius into fahrenheit is 32.0\n"
          ],
          "name": "stdout"
        }
      ]
    },
    {
      "cell_type": "code",
      "metadata": {
        "id": "4ItuWzyOFHye"
      },
      "source": [
        "class convert:\n",
        "  def __init__(self):\n",
        "    self.fahrenheit=0\n",
        "    self.celsius=0\n",
        "    self.option=0\n",
        "\n",
        "  def show(self):\n",
        "    for i,j in enumerate([\"celsius to fahrenheit\", \"fahrenheit to celsius\"]):\n",
        "      print(i,\" ---> \",j)\n",
        "    \n",
        "  def conversion(self,value):\n",
        "    if self.option==0:\n",
        "      celsius=value\n",
        "      self.fahrenheit=(celsius*9/5)+32\n",
        "    else:\n",
        "      fahrenheit=value\n",
        "      self.celsius=(fahrenheit-32)*5/9\n",
        "    \n",
        "  def get_value(self):\n",
        "    for i,j in enumerate([\"celsius to fahrenheit\", \"fahrenheit to celsius\"]):\n",
        "      print(i,\" ---> \",j)\n",
        "    print()\n",
        "    self.option=int(input(\"Enter your option :\"))\n",
        "    string=\"Celsius\" if self.option==0 else \"Fahrenheit\"\n",
        "    value=int(input(\"Enter the value ({0}) for conversion :\".format(string)))\n",
        "    return value\n",
        "  \n",
        "  def result(self):\n",
        "    if self.option==0:\n",
        "      print(\"Fahrenheit is :\",self.fahrenheit)\n",
        "    else:\n",
        "      print(\"Celcius is :\",self.celsius)\n",
        "        "
      ],
      "execution_count": null,
      "outputs": []
    },
    {
      "cell_type": "code",
      "metadata": {
        "id": "-2NKRV6nFwiQ",
        "colab": {
          "base_uri": "https://localhost:8080/"
        },
        "outputId": "cfefcdf7-5df1-4d63-a523-a7c1ab5f3023"
      },
      "source": [
        "object=convert()\n",
        "object.conversion(object.get_value())\n",
        "object.result()"
      ],
      "execution_count": null,
      "outputs": [
        {
          "output_type": "stream",
          "text": [
            "0  --->  celsius to fahrenheit\n",
            "1  --->  fahrenheit to celsius\n",
            "\n",
            "Enter your option :1\n",
            "Enter the value (Fahrenheit) for conversion :32\n",
            "Celcius is : 0.0\n"
          ],
          "name": "stdout"
        }
      ]
    },
    {
      "cell_type": "code",
      "metadata": {
        "id": "c50WTvHXFwux",
        "colab": {
          "base_uri": "https://localhost:8080/"
        },
        "outputId": "1350eceb-c894-4a0d-d1ef-665a595b6374"
      },
      "source": [
        "# Check if the number is positive, negative or zero\n",
        "num=int(input(\"Enter the number \"))\n",
        "if (num>=1):\n",
        "  print(\"Positive\")\n",
        "\n",
        "elif (num<0):\n",
        "  print(\"Negative\")\n",
        "else:\n",
        "  print(\"Zero\")"
      ],
      "execution_count": null,
      "outputs": [
        {
          "output_type": "stream",
          "text": [
            "Enter the number 1\n",
            "Positive\n"
          ],
          "name": "stdout"
        }
      ]
    },
    {
      "cell_type": "code",
      "metadata": {
        "colab": {
          "base_uri": "https://localhost:8080/"
        },
        "id": "39bQWPssVxh6",
        "outputId": "09459fc7-4dbe-428e-f282-745eb2a2274d"
      },
      "source": [
        "# Check if number is odd and even\n",
        "num=int(input(\"Enter the number :\"))\n",
        "if (num%2==0):\n",
        "  print(\"Even\")\n",
        "else:\n",
        "  print(\"Odd\")"
      ],
      "execution_count": null,
      "outputs": [
        {
          "output_type": "stream",
          "text": [
            "Enter the number :23\n",
            "Odd\n"
          ],
          "name": "stdout"
        }
      ]
    },
    {
      "cell_type": "code",
      "metadata": {
        "colab": {
          "base_uri": "https://localhost:8080/"
        },
        "id": "0KGP9r50Wtdx",
        "outputId": "a061a716-55c2-4961-9f5b-2bf12828e999"
      },
      "source": [
        "# Program to check Leap year\n",
        "year=int(input(\"Enter the year :\"))\n",
        "value=[]\n",
        "if year%4==0:\n",
        "  value.append(True)\n",
        "else:\n",
        "  value.append(False)\n",
        "\n",
        "if year%100==0:\n",
        "  value.append(True)\n",
        "else:\n",
        "  value.append(False)\n",
        "\n",
        "if year%400==0:\n",
        "  value.append(True)\n",
        "else:\n",
        "  value.append(False)\n",
        "\n",
        "print()\n",
        "if any(value):\n",
        "  print(\"{0} is a {1}\".format(year,\"Leap year\"))\n",
        "else:\n",
        "  print(\"{0} is a {1}\".format(year,\"Not a Leap year\"))"
      ],
      "execution_count": null,
      "outputs": [
        {
          "output_type": "stream",
          "text": [
            "Enter the year :2100\n",
            "\n",
            "2100 is a Leap year\n"
          ],
          "name": "stdout"
        }
      ]
    },
    {
      "cell_type": "code",
      "metadata": {
        "colab": {
          "base_uri": "https://localhost:8080/"
        },
        "id": "YVwo3oolXCCU",
        "outputId": "3fb81c14-7b2a-4bf2-9954-ba4afab858cd"
      },
      "source": [
        "# Largest among the 3 number\n",
        "num1=int(input(\"Enter First number :\"))\n",
        "num2=int(input(\"Enter Second number :\"))\n",
        "num3=int(input(\"Enter Third number :\"))\n",
        "if num1>num2 and num1>num3:\n",
        "  print(\"First number is the largest number\",num1)\n",
        "elif num2>num1 and num2>num3:\n",
        "  print(\"Second number is the largest number\",num2)\n",
        "else:\n",
        "  print(\"Third number is the largest number\",num3)"
      ],
      "execution_count": null,
      "outputs": [
        {
          "output_type": "stream",
          "text": [
            "Enter First number :30\n",
            "Enter Second number :20\n",
            "Enter Third number :10\n",
            "First number is the largest number 30\n"
          ],
          "name": "stdout"
        }
      ]
    },
    {
      "cell_type": "code",
      "metadata": {
        "colab": {
          "base_uri": "https://localhost:8080/"
        },
        "id": "hlRenRq2XCSY",
        "outputId": "ea32bc94-d970-4630-bbe4-02d716c2f3b7"
      },
      "source": [
        "# Check the prime number\n",
        "num=int(input(\"Enter the number \"))\n",
        "for i in range(2,num):\n",
        "  if num%i==0:\n",
        "    print(\"{0} is not a prime number\".format(num))\n",
        "    break\n",
        "else:\n",
        "  print(\"{0} is a prime number\".format(num))"
      ],
      "execution_count": null,
      "outputs": [
        {
          "output_type": "stream",
          "text": [
            "Enter the number 6\n",
            "6 is not a prime number\n"
          ],
          "name": "stdout"
        }
      ]
    },
    {
      "cell_type": "code",
      "metadata": {
        "colab": {
          "base_uri": "https://localhost:8080/"
        },
        "id": "6BQSUqYNWtm-",
        "outputId": "8f69cec8-cfd8-4374-ac05-25bd29aa9820"
      },
      "source": [
        "# print prime number in interval\n",
        "num1=int(input(\"Start point number \"))\n",
        "num2=int(input(\"End point number \"))\n",
        "print(\"Prime numbers between {0} and {1} are\".format(num1, num2))\n",
        "for i in range(num1,num2+1):\n",
        "  for j in range(2,i):\n",
        "    if i%j==0:\n",
        "      break\n",
        "  else:\n",
        "    print(i)"
      ],
      "execution_count": null,
      "outputs": [
        {
          "output_type": "stream",
          "text": [
            "Start point number 900\n",
            "End point number 950\n",
            "Prime number between 900 950 are\n",
            "907\n",
            "911\n",
            "919\n",
            "929\n",
            "937\n",
            "941\n",
            "947\n"
          ],
          "name": "stdout"
        }
      ]
    },
    {
      "cell_type": "code",
      "metadata": {
        "id": "0yBMZsJ4WtxR"
      },
      "source": [
        "# Factorial of a number\n",
        "def fac(n):\n",
        "  if n==0 or n==1:\n",
        "    return 1\n",
        "  if n>1:\n",
        "    return n*fac(n-1)"
      ],
      "execution_count": null,
      "outputs": []
    },
    {
      "cell_type": "code",
      "metadata": {
        "colab": {
          "base_uri": "https://localhost:8080/"
        },
        "id": "FhLVskRyVyGU",
        "outputId": "a34d89d1-2daa-45b6-c7f0-cb2ce2729fb2"
      },
      "source": [
        "num=int(input(\"Enter the number for factorial \"))\n",
        "fac(num)"
      ],
      "execution_count": null,
      "outputs": [
        {
          "output_type": "stream",
          "text": [
            "Enter the number for factorial 7\n"
          ],
          "name": "stdout"
        },
        {
          "output_type": "execute_result",
          "data": {
            "text/plain": [
              "5040"
            ]
          },
          "metadata": {
            "tags": []
          },
          "execution_count": 115
        }
      ]
    },
    {
      "cell_type": "code",
      "metadata": {
        "colab": {
          "base_uri": "https://localhost:8080/"
        },
        "id": "Q9Fr1o7LVyPV",
        "outputId": "9dbfa688-84fb-4fd3-ed45-493f8e27b480"
      },
      "source": [
        "# Display multiplication of number\n",
        "num=int(input(\"Enter the number \"))\n",
        "for i in range(1,11):\n",
        "  print(\"{0:1} x {1:2} = {2:2}\".format(num,i,num*i))  "
      ],
      "execution_count": null,
      "outputs": [
        {
          "output_type": "stream",
          "text": [
            "Enter the number 2\n",
            "2 x  1 =  2\n",
            "2 x  2 =  4\n",
            "2 x  3 =  6\n",
            "2 x  4 =  8\n",
            "2 x  5 = 10\n",
            "2 x  6 = 12\n",
            "2 x  7 = 14\n",
            "2 x  8 = 16\n",
            "2 x  9 = 18\n",
            "2 x 10 = 20\n"
          ],
          "name": "stdout"
        }
      ]
    },
    {
      "cell_type": "code",
      "metadata": {
        "id": "qkyl-RkqFw6O"
      },
      "source": [
        "# print the fibonaci number  {1 1 2 3 5 8 13 21}\n",
        "def fib(n):\n",
        "  value0=0\n",
        "  value1=1\n",
        "\n",
        "  if n<=0:\n",
        "    print(\"Enter the valid number\")\n",
        "    \n",
        "  if n>=1:\n",
        "    print(1)\n",
        "    count=1\n",
        "    while(count<n):\n",
        "      value2=value0+value1\n",
        "      print(value2)\n",
        "      value0=value1\n",
        "      value1=value2\n",
        "      count+=1"
      ],
      "execution_count": null,
      "outputs": []
    },
    {
      "cell_type": "code",
      "metadata": {
        "colab": {
          "base_uri": "https://localhost:8080/"
        },
        "id": "oBt_8Ft7qXGg",
        "outputId": "dbeeed50-a599-4275-9192-23a0678df31d"
      },
      "source": [
        "fib(10)"
      ],
      "execution_count": null,
      "outputs": [
        {
          "output_type": "stream",
          "text": [
            "1\n",
            "1\n",
            "2\n",
            "3\n",
            "5\n",
            "8\n",
            "13\n",
            "21\n",
            "34\n",
            "55\n"
          ],
          "name": "stdout"
        }
      ]
    },
    {
      "cell_type": "code",
      "metadata": {
        "colab": {
          "base_uri": "https://localhost:8080/"
        },
        "id": "wwydtTKdqXSo",
        "outputId": "e0ad3872-6275-4bf2-ab99-026554f7bab7"
      },
      "source": [
        "# Check Armstrong number\n",
        "num=int(input(\"Enter the number \"))\n",
        "size=len(str(num))\n",
        "num_temp=0\n",
        "for i in str(num):\n",
        "  num_temp=num_temp+pow(int(i),size)\n",
        "\n",
        "print(\"Armstrong Number\" if num_temp==num else \"Not a Armstrong number\")"
      ],
      "execution_count": null,
      "outputs": [
        {
          "output_type": "stream",
          "text": [
            "Enter the number 407\n",
            "Armstrong Number\n"
          ],
          "name": "stdout"
        }
      ]
    },
    {
      "cell_type": "code",
      "metadata": {
        "colab": {
          "base_uri": "https://localhost:8080/"
        },
        "id": "JJH47XFDqXcg",
        "outputId": "7b0a7cca-ee77-46e2-d86b-9599366b7ccc"
      },
      "source": [
        "# Check Armstrong number in interval\n",
        "first=int(input(\"Enter the first number \"))\n",
        "second=int(input(\"Enter the seconod number \"))\n",
        "# print(first, second)\n",
        "\n",
        "for j in range(first,second+1):\n",
        "  num_temp=0\n",
        "  size=len(str(j))\n",
        "  for i in str(j):\n",
        "    num_temp=num_temp+(int(i)**size)\n",
        "\n",
        "  if num_temp==j:\n",
        "    size=len(str(second))\n",
        "    print(\"{0:{1}} is a Armstrong Number\".format(j,size))\n",
        "  "
      ],
      "execution_count": null,
      "outputs": [
        {
          "output_type": "stream",
          "text": [
            "Enter the first number 100\n",
            "Enter the seconod number 2000\n",
            " 153 is a Armstrong Number\n",
            " 370 is a Armstrong Number\n",
            " 371 is a Armstrong Number\n",
            " 407 is a Armstrong Number\n",
            "1634 is a Armstrong Number\n"
          ],
          "name": "stdout"
        }
      ]
    },
    {
      "cell_type": "code",
      "metadata": {
        "id": "stLOELDoqXkc",
        "colab": {
          "base_uri": "https://localhost:8080/"
        },
        "outputId": "336845bb-21c8-463f-b0bb-c52c6702f053"
      },
      "source": [
        "# Find the sum of natural numbers\n",
        "num=int(input(\"Enter the num \")) \n",
        "show=\"Enter positive non-zero number\" if num<=0 else 0\n",
        "\n",
        "for i in range(num):\n",
        "  show=show+i+1\n",
        "print(show)"
      ],
      "execution_count": null,
      "outputs": [
        {
          "output_type": "stream",
          "text": [
            "Enter the num 0\n",
            "Enter positive non-zero number\n"
          ],
          "name": "stdout"
        }
      ]
    },
    {
      "cell_type": "code",
      "metadata": {
        "id": "qDrjsj1NqXsO",
        "colab": {
          "base_uri": "https://localhost:8080/"
        },
        "outputId": "41d8c05a-d6b7-419f-bc2d-dc1d5a2f3689"
      },
      "source": [
        "# Display powers of 2 using anonymous fucntion\n",
        "num=int(input(\"Enter the number \"))\n",
        "lists=list(map(lambda x: 2**x,range(num)))\n",
        "for i,j in enumerate(lists):\n",
        "  print(\"2 raised to power {0} is {1:3}\".format(i,j))"
      ],
      "execution_count": null,
      "outputs": [
        {
          "output_type": "stream",
          "text": [
            "Enter the number 10\n",
            "2 raised to power 0 is   1\n",
            "2 raised to power 1 is   2\n",
            "2 raised to power 2 is   4\n",
            "2 raised to power 3 is   8\n",
            "2 raised to power 4 is  16\n",
            "2 raised to power 5 is  32\n",
            "2 raised to power 6 is  64\n",
            "2 raised to power 7 is 128\n",
            "2 raised to power 8 is 256\n",
            "2 raised to power 9 is 512\n"
          ],
          "name": "stdout"
        }
      ]
    },
    {
      "cell_type": "code",
      "metadata": {
        "id": "382aWBI_k_dN",
        "colab": {
          "base_uri": "https://localhost:8080/"
        },
        "outputId": "a5a2b7e3-dd7e-4137-cd1b-9b69596348dd"
      },
      "source": [
        "# Find numbers divisible by another number\n",
        "my_list = [12, 65, 54, 39, 102, 339, 221,]\n",
        "lists=list(filter(lambda x: x if x%13==0 else \"\" ,my_list))\n",
        "print(\"Number divisible by 13 are {0} \".format(lists))"
      ],
      "execution_count": null,
      "outputs": [
        {
          "output_type": "stream",
          "text": [
            "Number divisible by 13 are [65, 39, 221] \n"
          ],
          "name": "stdout"
        }
      ]
    },
    {
      "cell_type": "code",
      "metadata": {
        "id": "OdjncfTZk_pw",
        "colab": {
          "base_uri": "https://localhost:8080/"
        },
        "outputId": "320f3346-ba0f-49ad-80d8-b647bebd7c5d"
      },
      "source": [
        "# Convert Decimal to Binary, Octal and Hexadecimal\n",
        "dec=int(input(\"Enter the decimal value \"))\n",
        "print(\"{0} in binary\".format(bin(dec)))\n",
        "print(\"{0} in octal\".format(oct(dec)))\n",
        "print(\"{0} in decimal\".format(hex(dec)))"
      ],
      "execution_count": null,
      "outputs": [
        {
          "output_type": "stream",
          "text": [
            "Enter the decimal value 344\n",
            "0b101011000 in binary\n",
            "0o530 in octal\n",
            "0x158 in decimal\n"
          ],
          "name": "stdout"
        }
      ]
    },
    {
      "cell_type": "code",
      "metadata": {
        "id": "dSyzt8imk_1_",
        "colab": {
          "base_uri": "https://localhost:8080/"
        },
        "outputId": "6953a1cd-dc17-47a3-ab20-e4e8d3a39109"
      },
      "source": [
        "# Find ASCII Value of Character\n",
        "char=str(input(\"Enter the character \"))\n",
        "print(\"ASCII value of {0} is {1} \".format(char,ord(char)))"
      ],
      "execution_count": null,
      "outputs": [
        {
          "output_type": "stream",
          "text": [
            "Enter the character p\n",
            "ASCII value of p is 112 \n"
          ],
          "name": "stdout"
        }
      ]
    },
    {
      "cell_type": "code",
      "metadata": {
        "colab": {
          "base_uri": "https://localhost:8080/"
        },
        "id": "t90yB3OS-SKX",
        "outputId": "8be66e86-b9ad-4828-cf42-96fdeb1ff6f2"
      },
      "source": [
        "# Find HCF or GCD\n",
        "def compute_hcf(x,y):\n",
        "  smaller=y if x>y else x\n",
        "  l=[]\n",
        "  while(smaller>0): \n",
        "    if x%smaller==0 and y%smaller==0:\n",
        "      l.append(smaller)\n",
        "    smaller-=1\n",
        "\n",
        "  return max(l)\n",
        "\n",
        "def compute_hcf_1(x,y):\n",
        "  while(y):\n",
        "    x,y=y,x%y\n",
        "  return x\n",
        "compute_hcf_1(num1,num2)\n",
        "\n",
        "\n",
        "num1=54;num2=24\n",
        "print(\"The H.C.F. is \",compute_hcf(num1,num2))\n",
        "print(\"The H.C.F. is \",compute_hcf_1(num1,num2))"
      ],
      "execution_count": null,
      "outputs": [
        {
          "output_type": "stream",
          "text": [
            "The H.C.F. is  6\n",
            "The H.C.F. is  6\n"
          ],
          "name": "stdout"
        }
      ]
    },
    {
      "cell_type": "code",
      "metadata": {
        "colab": {
          "base_uri": "https://localhost:8080/"
        },
        "id": "fHniLP5R-SMw",
        "outputId": "0f3b0e65-9a1e-414e-913a-4fd60dabe6d9"
      },
      "source": [
        "# Find LCM\n",
        "def compute_lcm(x,y):\n",
        "  larger=x if x>y else y\n",
        "  lcm=0\n",
        "  while(1):\n",
        "    if larger%x==0 and larger%y==0:\n",
        "      lcm=larger\n",
        "      break\n",
        "    larger+=1\n",
        "  return lcm\n",
        "\n",
        "def compute_lcm1(x,y):\n",
        "  def gcd(x,y):\n",
        "    while(y):\n",
        "      x,y=y,x%y\n",
        "    return int(x)\n",
        "  result=int((x*y)//gcd(x,y))\n",
        "  return result\n",
        "\n",
        "print(\"The L.C.M. is \",compute_lcm1(num1,num2))\n",
        "print(\"The L.C.M. is \",compute_lcm(num1,num2))"
      ],
      "execution_count": null,
      "outputs": [
        {
          "output_type": "stream",
          "text": [
            "The L.C.M. is  216\n",
            "The L.C.M. is  216\n"
          ],
          "name": "stdout"
        }
      ]
    },
    {
      "cell_type": "code",
      "metadata": {
        "colab": {
          "base_uri": "https://localhost:8080/"
        },
        "id": "NfUYl6v--SY6",
        "outputId": "f88581bc-8c6b-4391-87d7-507f3d681578"
      },
      "source": [
        "# Find the factors of a number\n",
        "num=int(input(\"Enter the value \"))\n",
        "for i in range(1,num+1):\n",
        "  if num%i==0:\n",
        "    print(i)"
      ],
      "execution_count": null,
      "outputs": [
        {
          "output_type": "stream",
          "text": [
            "Enter the value 320\n",
            "1\n",
            "2\n",
            "4\n",
            "5\n",
            "8\n",
            "10\n",
            "16\n",
            "20\n",
            "32\n",
            "40\n",
            "64\n",
            "80\n",
            "160\n",
            "320\n"
          ],
          "name": "stdout"
        }
      ]
    },
    {
      "cell_type": "code",
      "metadata": {
        "id": "XWB9m7YNLh0u"
      },
      "source": [
        "# Make a simple calculator\n",
        "class cal:\n",
        "  def __init__(self):\n",
        "    self.op=-1\n",
        "    self.num1=0\n",
        "    self.num2=0\n",
        "\n",
        "  def add(x,y):\n",
        "    return x+y\n",
        "  def sub(x,y):\n",
        "    return x-y\n",
        "  def mul(x,y):\n",
        "    return x*y\n",
        "  def div(x,y):\n",
        "    return x/y\n",
        "\n",
        "  def option(self):\n",
        "    print(\"Select Operation\")\n",
        "    for i,j in enumerate([\"Stop\",\"Add\",\"Subtract\",\"Multiply\",\"Divide\"]):\n",
        "      print(i,j)\n",
        "    self.num1=int(input(\"Enter the first number \"))\n",
        "    self.num2=int(input(\"Enter the second number \"))\n",
        "    self.op=int(input(\"Enter option \"))\n",
        "    return self.op,self.num1,self.num2\n",
        "\n",
        "  def processing(self,op,x,y):\n",
        "    switcher={0:0,1:cal.add(x,y),2:cal.sub(x,y),3:cal.mul(x,y),4:cal.div(x,y)}\n",
        "    print(switcher.get(op,'Enter the correct option'))\n",
        "    print()\n",
        "    \n",
        "    "
      ],
      "execution_count": null,
      "outputs": []
    },
    {
      "cell_type": "code",
      "metadata": {
        "id": "avWmj10eUhmz"
      },
      "source": [
        "object=cal()\n",
        "try:  \n",
        "  while(1):   \n",
        "    op,n1,n2=object.option()\n",
        "    object.processing(op,n1,n2)\n",
        "except:\n",
        "  print(\"Exiting ...\")"
      ],
      "execution_count": null,
      "outputs": []
    },
    {
      "cell_type": "code",
      "metadata": {
        "colab": {
          "base_uri": "https://localhost:8080/"
        },
        "id": "iPi5vXuNhgJK",
        "outputId": "0a0cf6ad-303c-443e-f71f-6e1ec34415d9"
      },
      "source": [
        "# Shuffle Deck of Cards\n",
        "import itertools,random\n",
        "deck=list(itertools.product(range(1,14),[\"Spade\",\"Heart\",\"Diamond\",\"Club\"]))\n",
        "random.shuffle(deck)\n",
        "for i in range(5):\n",
        "  print(\"{0:2} of {1}\".format(deck[i][0],deck[i][1]))\n"
      ],
      "execution_count": null,
      "outputs": [
        {
          "output_type": "stream",
          "text": [
            " 5 of Club\n",
            " 2 of Heart\n",
            " 9 of Club\n",
            " 2 of Spade\n",
            "12 of Heart\n"
          ],
          "name": "stdout"
        }
      ]
    },
    {
      "cell_type": "code",
      "metadata": {
        "colab": {
          "base_uri": "https://localhost:8080/"
        },
        "id": "VedWlJdtXF79",
        "outputId": "35669d09-25af-4c63-af40-bd054fdcd8ec"
      },
      "source": [
        "# Display Calender\n",
        "import calendar\n",
        "year=int(input(\"Enter the year \"))\n",
        "month=int(input(\"Enter the month \"))\n",
        "print()\n",
        "print(calendar.month(year,month))\n"
      ],
      "execution_count": 12,
      "outputs": [
        {
          "output_type": "stream",
          "text": [
            "Enter the year 2021\n",
            "Enter the month 6\n",
            "\n",
            "     June 2021\n",
            "Mo Tu We Th Fr Sa Su\n",
            "    1  2  3  4  5  6\n",
            " 7  8  9 10 11 12 13\n",
            "14 15 16 17 18 19 20\n",
            "21 22 23 24 25 26 27\n",
            "28 29 30\n",
            "\n"
          ],
          "name": "stdout"
        }
      ]
    },
    {
      "cell_type": "code",
      "metadata": {
        "colab": {
          "base_uri": "https://localhost:8080/"
        },
        "id": "88Ku8hgQau8W",
        "outputId": "3829f8c4-e230-49e0-a078-25ddf658d4fe"
      },
      "source": [
        "# Displaying Fibonacci Sequence using recursion\n",
        "def fibonacci(n):\n",
        "  if n<=1:\n",
        "    return n\n",
        "  else:\n",
        "    return fibonacci(n-1) + fibonacci(n-2)\n",
        "\n",
        "num=int(input(\"Enter the number for fibonacci seires \"))\n",
        "for i in range(num):\n",
        "  print(fibonacci(i+1))\n"
      ],
      "execution_count": 41,
      "outputs": [
        {
          "output_type": "stream",
          "text": [
            "Enter the number for fibonacci seires 3\n",
            "1\n",
            "1\n",
            "2\n"
          ],
          "name": "stdout"
        }
      ]
    },
    {
      "cell_type": "code",
      "metadata": {
        "colab": {
          "base_uri": "https://localhost:8080/"
        },
        "id": "dQrjXb7xfkij",
        "outputId": "19c40da9-72df-47fc-d9e9-b0248e1c7008"
      },
      "source": [
        "# Find the sum of Natural Numbers using Recursion\n",
        "def N_sum(n):\n",
        "  if n==1:\n",
        "    return n\n",
        "  if n>1:\n",
        "    return n + N_sum(n-1)\n",
        "\n",
        "num=int(input(\"Enter the number \"))  # 16\n",
        "print(\"The sum is {0} \".format(N_sum(num)))"
      ],
      "execution_count": 42,
      "outputs": [
        {
          "output_type": "stream",
          "text": [
            "Enter the number 16\n",
            "The sum is 136 \n"
          ],
          "name": "stdout"
        }
      ]
    },
    {
      "cell_type": "code",
      "metadata": {
        "colab": {
          "base_uri": "https://localhost:8080/"
        },
        "id": "Xt_By_XmigMg",
        "outputId": "811695d1-daf6-4934-f903-4aeca585bff6"
      },
      "source": [
        "# Find Factorial of Number Using Recursion\n",
        "def fac(n):\n",
        "  if n==1:\n",
        "    return n\n",
        "  if n>1:\n",
        "    return n*fac(n-1)\n",
        "\n",
        "print(\"The factorial is {0} \".format(fac(int(input(\"Enter the Number for Factorial \")))))\n"
      ],
      "execution_count": 46,
      "outputs": [
        {
          "output_type": "stream",
          "text": [
            "Enter the Number for Factorial 7\n",
            "The factorial is 5040 \n"
          ],
          "name": "stdout"
        }
      ]
    },
    {
      "cell_type": "code",
      "metadata": {
        "colab": {
          "base_uri": "https://localhost:8080/"
        },
        "id": "02bWZ429jpUl",
        "outputId": "c29c34a0-d6e2-43f9-ece2-e127afd05ee6"
      },
      "source": [
        "# Convert Decimal to Binary Using Recursion\n",
        "def conversion(n):\n",
        "  # print(\"#\",n,n%2)\n",
        "\n",
        "  if n>1:\n",
        "    # print(n)\n",
        "    conversion(n//2)\n",
        "\n",
        "  # print(\"@\",n,n%2)\n",
        "  print(n%2,end=\"\")\n",
        "\n",
        "conversion(int(input(\"Enter the number for conversion \")))  \n",
        "\n"
      ],
      "execution_count": 74,
      "outputs": [
        {
          "output_type": "stream",
          "text": [
            "Enter the number for conversion 34\n",
            "100010"
          ],
          "name": "stdout"
        }
      ]
    },
    {
      "cell_type": "code",
      "metadata": {
        "colab": {
          "base_uri": "https://localhost:8080/"
        },
        "id": "MzhUnpdgp3me",
        "outputId": "4c269e49-d763-4c5b-b8fb-7b357b80b1ef"
      },
      "source": [
        "# Add two matrices\n",
        "X = [[12,7,3],\n",
        "    [4 ,5,6],\n",
        "    [7 ,8,9]]\n",
        "\n",
        "Y = [[5,8,1],\n",
        "    [6,7,3],\n",
        "    [4,5,9]]\n",
        "result=[[0,0,0],[0,0,0],[0,0,0]]\n",
        "for i in range(len(X)):\n",
        "  for j in range(len(Y)):\n",
        "    result[i][j]=X[i][j]+Y[i][j]\n",
        "\n",
        "for i in result:\n",
        "  print(i)"
      ],
      "execution_count": 82,
      "outputs": [
        {
          "output_type": "stream",
          "text": [
            "[17, 15, 4]\n",
            "[10, 12, 9]\n",
            "[11, 13, 18]\n"
          ],
          "name": "stdout"
        }
      ]
    },
    {
      "cell_type": "code",
      "metadata": {
        "colab": {
          "base_uri": "https://localhost:8080/"
        },
        "id": "T38nP19VrDKx",
        "outputId": "f8b8d38b-e1bc-49aa-c074-f3adff3cd282"
      },
      "source": [
        "# 2nd Method\n",
        "output=[[X[i][j]+Y[i][j] for j in range(len(Y))] for i in range(len(X)) ]\n",
        "for i in output:\n",
        "  print(i)"
      ],
      "execution_count": 93,
      "outputs": [
        {
          "output_type": "stream",
          "text": [
            "[17, 15, 4]\n",
            "[10, 12, 9]\n",
            "[11, 13, 18]\n"
          ],
          "name": "stdout"
        }
      ]
    },
    {
      "cell_type": "code",
      "metadata": {
        "colab": {
          "base_uri": "https://localhost:8080/"
        },
        "id": "8JvR3iF2skud",
        "outputId": "601ee270-483a-42ed-9f51-0c6976669d81"
      },
      "source": [
        "# Transpose a Matrix\n",
        "X = [[12,7],\n",
        "    [4 ,5],\n",
        "    [3 ,8]]\n",
        "\n",
        "result = [[0,0,0],\n",
        "         [0,0,0]]\n",
        "\n",
        "for i in range(len(X)):\n",
        "  for j in range(len(X[0])):\n",
        "    result[j][i]=X[i][j]\n",
        "\n",
        "for i in result:\n",
        "  print(i)"
      ],
      "execution_count": 98,
      "outputs": [
        {
          "output_type": "stream",
          "text": [
            "[12, 4, 3]\n",
            "[7, 5, 8]\n"
          ],
          "name": "stdout"
        }
      ]
    },
    {
      "cell_type": "code",
      "metadata": {
        "colab": {
          "base_uri": "https://localhost:8080/"
        },
        "id": "xV3-bjYWtdak",
        "outputId": "04debe58-3072-4dfb-a90d-513e8903ae10"
      },
      "source": [
        "# 2nd method\n",
        "for i in [[X[j][i]for j in range(len(X))]for i in range(len(X[0]))]:\n",
        "  print(i)"
      ],
      "execution_count": 102,
      "outputs": [
        {
          "output_type": "stream",
          "text": [
            "[12, 4, 3]\n",
            "[7, 5, 8]\n"
          ],
          "name": "stdout"
        }
      ]
    },
    {
      "cell_type": "code",
      "metadata": {
        "colab": {
          "base_uri": "https://localhost:8080/"
        },
        "id": "RaX2wVXNu1B2",
        "outputId": "17b2ddce-81e0-40a4-d4b1-ee2532e51028"
      },
      "source": [
        "# Multiply two matrices\n",
        "X = [[12,7,3],\n",
        "    [4 ,5,6],\n",
        "    [7 ,8,9]]\n",
        "# 3x4 matrix\n",
        "Y = [[5,8,1,2],\n",
        "    [6,7,3,0],\n",
        "    [4,5,9,1]]\n",
        "# result is 3x4\n",
        "result = [[0,0,0,0],\n",
        "         [0,0,0,0],\n",
        "         [0,0,0,0]]\n",
        "\n",
        "for i in range(len(X)):\n",
        "  for j in range(len(Y[0])):\n",
        "    for k in range(len(Y)):\n",
        "      result[i][j]+=X[i][k]*Y[k][j]\n",
        "\n",
        "for i in result:\n",
        "  print(i)"
      ],
      "execution_count": 71,
      "outputs": [
        {
          "output_type": "stream",
          "text": [
            "[114, 160, 60, 27]\n",
            "[74, 97, 73, 14]\n",
            "[119, 157, 112, 23]\n"
          ],
          "name": "stdout"
        }
      ]
    },
    {
      "cell_type": "code",
      "metadata": {
        "colab": {
          "base_uri": "https://localhost:8080/"
        },
        "id": "eBS7Ep9TaVBe",
        "outputId": "2a92367d-9fd7-4ea9-9499-6de508415b7e"
      },
      "source": [
        "# 2nd method\n",
        "result=[[sum([a*b for a,b in zip(i,j)])for j in zip(*Y)] for i in X]\n",
        "for i in result:\n",
        "  print(i)"
      ],
      "execution_count": 80,
      "outputs": [
        {
          "output_type": "stream",
          "text": [
            "[114, 160, 60, 27]\n",
            "[74, 97, 73, 14]\n",
            "[119, 157, 112, 23]\n"
          ],
          "name": "stdout"
        }
      ]
    }
  ]
}